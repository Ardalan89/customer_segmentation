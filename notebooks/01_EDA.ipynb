{
 "cells": [
  {
   "cell_type": "code",
   "execution_count": 14,
   "id": "d6f31b17",
   "metadata": {},
   "outputs": [],
   "source": [
    "# import libraries\n",
    "import pandas as pd\n",
    "import numpy as np\n",
    "import matplotlib.pyplot as plt\n",
    "import seaborn as sns\n",
    "import json"
   ]
  },
  {
   "cell_type": "code",
   "execution_count": null,
   "id": "c660f4ea",
   "metadata": {},
   "outputs": [],
   "source": [
    "# load dataset\n",
    "df = pd.read_csv(\"../data/raw/Mall_Customers.csv\")"
   ]
  },
  {
   "cell_type": "code",
   "execution_count": 4,
   "id": "f8a10e5e",
   "metadata": {},
   "outputs": [
    {
     "data": {
      "text/plain": [
       "Index(['CustomerID', 'Genre', 'Age', 'Annual Income (k$)',\n",
       "       'Spending Score (1-100)'],\n",
       "      dtype='object')"
      ]
     },
     "execution_count": 4,
     "metadata": {},
     "output_type": "execute_result"
    }
   ],
   "source": [
    "df.columns"
   ]
  },
  {
   "cell_type": "code",
   "execution_count": 5,
   "id": "82de2dc1",
   "metadata": {},
   "outputs": [
    {
     "data": {
      "application/vnd.microsoft.datawrangler.viewer.v0+json": {
       "columns": [
        {
         "name": "index",
         "rawType": "int64",
         "type": "integer"
        },
        {
         "name": "CustomerID",
         "rawType": "int64",
         "type": "integer"
        },
        {
         "name": "Genre",
         "rawType": "object",
         "type": "string"
        },
        {
         "name": "Age",
         "rawType": "int64",
         "type": "integer"
        },
        {
         "name": "Annual Income (k$)",
         "rawType": "int64",
         "type": "integer"
        },
        {
         "name": "Spending Score (1-100)",
         "rawType": "int64",
         "type": "integer"
        }
       ],
       "ref": "6c5da3b0-aa57-4003-b5bc-b94a4ddd651b",
       "rows": [
        [
         "0",
         "1",
         "Male",
         "19",
         "15",
         "39"
        ],
        [
         "1",
         "2",
         "Male",
         "21",
         "15",
         "81"
        ],
        [
         "2",
         "3",
         "Female",
         "20",
         "16",
         "6"
        ],
        [
         "3",
         "4",
         "Female",
         "23",
         "16",
         "77"
        ],
        [
         "4",
         "5",
         "Female",
         "31",
         "17",
         "40"
        ],
        [
         "5",
         "6",
         "Female",
         "22",
         "17",
         "76"
        ],
        [
         "6",
         "7",
         "Female",
         "35",
         "18",
         "6"
        ],
        [
         "7",
         "8",
         "Female",
         "23",
         "18",
         "94"
        ],
        [
         "8",
         "9",
         "Male",
         "64",
         "19",
         "3"
        ],
        [
         "9",
         "10",
         "Female",
         "30",
         "19",
         "72"
        ],
        [
         "10",
         "11",
         "Male",
         "67",
         "19",
         "14"
        ],
        [
         "11",
         "12",
         "Female",
         "35",
         "19",
         "99"
        ],
        [
         "12",
         "13",
         "Female",
         "58",
         "20",
         "15"
        ],
        [
         "13",
         "14",
         "Female",
         "24",
         "20",
         "77"
        ],
        [
         "14",
         "15",
         "Male",
         "37",
         "20",
         "13"
        ],
        [
         "15",
         "16",
         "Male",
         "22",
         "20",
         "79"
        ],
        [
         "16",
         "17",
         "Female",
         "35",
         "21",
         "35"
        ],
        [
         "17",
         "18",
         "Male",
         "20",
         "21",
         "66"
        ],
        [
         "18",
         "19",
         "Male",
         "52",
         "23",
         "29"
        ],
        [
         "19",
         "20",
         "Female",
         "35",
         "23",
         "98"
        ]
       ],
       "shape": {
        "columns": 5,
        "rows": 20
       }
      },
      "text/html": [
       "<div>\n",
       "<style scoped>\n",
       "    .dataframe tbody tr th:only-of-type {\n",
       "        vertical-align: middle;\n",
       "    }\n",
       "\n",
       "    .dataframe tbody tr th {\n",
       "        vertical-align: top;\n",
       "    }\n",
       "\n",
       "    .dataframe thead th {\n",
       "        text-align: right;\n",
       "    }\n",
       "</style>\n",
       "<table border=\"1\" class=\"dataframe\">\n",
       "  <thead>\n",
       "    <tr style=\"text-align: right;\">\n",
       "      <th></th>\n",
       "      <th>CustomerID</th>\n",
       "      <th>Genre</th>\n",
       "      <th>Age</th>\n",
       "      <th>Annual Income (k$)</th>\n",
       "      <th>Spending Score (1-100)</th>\n",
       "    </tr>\n",
       "  </thead>\n",
       "  <tbody>\n",
       "    <tr>\n",
       "      <th>0</th>\n",
       "      <td>1</td>\n",
       "      <td>Male</td>\n",
       "      <td>19</td>\n",
       "      <td>15</td>\n",
       "      <td>39</td>\n",
       "    </tr>\n",
       "    <tr>\n",
       "      <th>1</th>\n",
       "      <td>2</td>\n",
       "      <td>Male</td>\n",
       "      <td>21</td>\n",
       "      <td>15</td>\n",
       "      <td>81</td>\n",
       "    </tr>\n",
       "    <tr>\n",
       "      <th>2</th>\n",
       "      <td>3</td>\n",
       "      <td>Female</td>\n",
       "      <td>20</td>\n",
       "      <td>16</td>\n",
       "      <td>6</td>\n",
       "    </tr>\n",
       "    <tr>\n",
       "      <th>3</th>\n",
       "      <td>4</td>\n",
       "      <td>Female</td>\n",
       "      <td>23</td>\n",
       "      <td>16</td>\n",
       "      <td>77</td>\n",
       "    </tr>\n",
       "    <tr>\n",
       "      <th>4</th>\n",
       "      <td>5</td>\n",
       "      <td>Female</td>\n",
       "      <td>31</td>\n",
       "      <td>17</td>\n",
       "      <td>40</td>\n",
       "    </tr>\n",
       "    <tr>\n",
       "      <th>5</th>\n",
       "      <td>6</td>\n",
       "      <td>Female</td>\n",
       "      <td>22</td>\n",
       "      <td>17</td>\n",
       "      <td>76</td>\n",
       "    </tr>\n",
       "    <tr>\n",
       "      <th>6</th>\n",
       "      <td>7</td>\n",
       "      <td>Female</td>\n",
       "      <td>35</td>\n",
       "      <td>18</td>\n",
       "      <td>6</td>\n",
       "    </tr>\n",
       "    <tr>\n",
       "      <th>7</th>\n",
       "      <td>8</td>\n",
       "      <td>Female</td>\n",
       "      <td>23</td>\n",
       "      <td>18</td>\n",
       "      <td>94</td>\n",
       "    </tr>\n",
       "    <tr>\n",
       "      <th>8</th>\n",
       "      <td>9</td>\n",
       "      <td>Male</td>\n",
       "      <td>64</td>\n",
       "      <td>19</td>\n",
       "      <td>3</td>\n",
       "    </tr>\n",
       "    <tr>\n",
       "      <th>9</th>\n",
       "      <td>10</td>\n",
       "      <td>Female</td>\n",
       "      <td>30</td>\n",
       "      <td>19</td>\n",
       "      <td>72</td>\n",
       "    </tr>\n",
       "    <tr>\n",
       "      <th>10</th>\n",
       "      <td>11</td>\n",
       "      <td>Male</td>\n",
       "      <td>67</td>\n",
       "      <td>19</td>\n",
       "      <td>14</td>\n",
       "    </tr>\n",
       "    <tr>\n",
       "      <th>11</th>\n",
       "      <td>12</td>\n",
       "      <td>Female</td>\n",
       "      <td>35</td>\n",
       "      <td>19</td>\n",
       "      <td>99</td>\n",
       "    </tr>\n",
       "    <tr>\n",
       "      <th>12</th>\n",
       "      <td>13</td>\n",
       "      <td>Female</td>\n",
       "      <td>58</td>\n",
       "      <td>20</td>\n",
       "      <td>15</td>\n",
       "    </tr>\n",
       "    <tr>\n",
       "      <th>13</th>\n",
       "      <td>14</td>\n",
       "      <td>Female</td>\n",
       "      <td>24</td>\n",
       "      <td>20</td>\n",
       "      <td>77</td>\n",
       "    </tr>\n",
       "    <tr>\n",
       "      <th>14</th>\n",
       "      <td>15</td>\n",
       "      <td>Male</td>\n",
       "      <td>37</td>\n",
       "      <td>20</td>\n",
       "      <td>13</td>\n",
       "    </tr>\n",
       "    <tr>\n",
       "      <th>15</th>\n",
       "      <td>16</td>\n",
       "      <td>Male</td>\n",
       "      <td>22</td>\n",
       "      <td>20</td>\n",
       "      <td>79</td>\n",
       "    </tr>\n",
       "    <tr>\n",
       "      <th>16</th>\n",
       "      <td>17</td>\n",
       "      <td>Female</td>\n",
       "      <td>35</td>\n",
       "      <td>21</td>\n",
       "      <td>35</td>\n",
       "    </tr>\n",
       "    <tr>\n",
       "      <th>17</th>\n",
       "      <td>18</td>\n",
       "      <td>Male</td>\n",
       "      <td>20</td>\n",
       "      <td>21</td>\n",
       "      <td>66</td>\n",
       "    </tr>\n",
       "    <tr>\n",
       "      <th>18</th>\n",
       "      <td>19</td>\n",
       "      <td>Male</td>\n",
       "      <td>52</td>\n",
       "      <td>23</td>\n",
       "      <td>29</td>\n",
       "    </tr>\n",
       "    <tr>\n",
       "      <th>19</th>\n",
       "      <td>20</td>\n",
       "      <td>Female</td>\n",
       "      <td>35</td>\n",
       "      <td>23</td>\n",
       "      <td>98</td>\n",
       "    </tr>\n",
       "  </tbody>\n",
       "</table>\n",
       "</div>"
      ],
      "text/plain": [
       "    CustomerID   Genre  Age  Annual Income (k$)  Spending Score (1-100)\n",
       "0            1    Male   19                  15                      39\n",
       "1            2    Male   21                  15                      81\n",
       "2            3  Female   20                  16                       6\n",
       "3            4  Female   23                  16                      77\n",
       "4            5  Female   31                  17                      40\n",
       "5            6  Female   22                  17                      76\n",
       "6            7  Female   35                  18                       6\n",
       "7            8  Female   23                  18                      94\n",
       "8            9    Male   64                  19                       3\n",
       "9           10  Female   30                  19                      72\n",
       "10          11    Male   67                  19                      14\n",
       "11          12  Female   35                  19                      99\n",
       "12          13  Female   58                  20                      15\n",
       "13          14  Female   24                  20                      77\n",
       "14          15    Male   37                  20                      13\n",
       "15          16    Male   22                  20                      79\n",
       "16          17  Female   35                  21                      35\n",
       "17          18    Male   20                  21                      66\n",
       "18          19    Male   52                  23                      29\n",
       "19          20  Female   35                  23                      98"
      ]
     },
     "execution_count": 5,
     "metadata": {},
     "output_type": "execute_result"
    }
   ],
   "source": [
    "df.head(20)"
   ]
  },
  {
   "cell_type": "code",
   "execution_count": 7,
   "id": "40105038",
   "metadata": {},
   "outputs": [
    {
     "name": "stdout",
     "output_type": "stream",
     "text": [
      "<class 'pandas.core.frame.DataFrame'>\n",
      "RangeIndex: 189 entries, 0 to 188\n",
      "Data columns (total 5 columns):\n",
      " #   Column                  Non-Null Count  Dtype \n",
      "---  ------                  --------------  ----- \n",
      " 0   CustomerID              189 non-null    int64 \n",
      " 1   Genre                   189 non-null    object\n",
      " 2   Age                     189 non-null    int64 \n",
      " 3   Annual Income (k$)      189 non-null    int64 \n",
      " 4   Spending Score (1-100)  189 non-null    int64 \n",
      "dtypes: int64(4), object(1)\n",
      "memory usage: 7.5+ KB\n",
      "None\n",
      "       CustomerID         Age  Annual Income (k$)  Spending Score (1-100)\n",
      "count  189.000000  189.000000          189.000000              189.000000\n",
      "mean    95.000000   39.026455           57.201058               50.084656\n",
      "std     54.703748   14.295675           22.705839               25.451314\n",
      "min      1.000000   18.000000           15.000000                1.000000\n",
      "25%     48.000000   28.000000           40.000000               35.000000\n",
      "50%     95.000000   36.000000           60.000000               50.000000\n",
      "75%    142.000000   49.000000           75.000000               72.000000\n",
      "max    189.000000   70.000000          103.000000               99.000000\n"
     ]
    }
   ],
   "source": [
    "print(df.info())\n",
    "print(df.describe())\n"
   ]
  },
  {
   "cell_type": "code",
   "execution_count": 8,
   "id": "f09d0775",
   "metadata": {},
   "outputs": [
    {
     "name": "stdout",
     "output_type": "stream",
     "text": [
      "Missing values:\n",
      "CustomerID                0\n",
      "Genre                     0\n",
      "Age                       0\n",
      "Annual Income (k$)        0\n",
      "Spending Score (1-100)    0\n",
      "dtype: int64\n",
      "Duplicate rows: 0\n"
     ]
    }
   ],
   "source": [
    "# Data checks\n",
    "print(f\"Missing values:\\n{df.isnull().sum()}\")\n",
    "print(f\"Duplicate rows: {df.duplicated().sum()}\")"
   ]
  },
  {
   "cell_type": "code",
   "execution_count": 12,
   "id": "973dbd7a",
   "metadata": {},
   "outputs": [
    {
     "data": {
      "application/vnd.microsoft.datawrangler.viewer.v0+json": {
       "columns": [
        {
         "name": "index",
         "rawType": "object",
         "type": "string"
        },
        {
         "name": "0",
         "rawType": "float64",
         "type": "float"
        }
       ],
       "ref": "5ef83d71-3c37-4e1d-b244-4e7d0fc6e4f4",
       "rows": [
        [
         "CustomerID",
         "0.0"
        ],
        [
         "Genre",
         "0.0"
        ],
        [
         "Age",
         "0.0"
        ],
        [
         "Annual Income (k$)",
         "0.0"
        ],
        [
         "Spending Score (1-100)",
         "0.0"
        ]
       ],
       "shape": {
        "columns": 1,
        "rows": 5
       }
      },
      "text/plain": [
       "CustomerID                0.0\n",
       "Genre                     0.0\n",
       "Age                       0.0\n",
       "Annual Income (k$)        0.0\n",
       "Spending Score (1-100)    0.0\n",
       "dtype: float64"
      ]
     },
     "execution_count": 12,
     "metadata": {},
     "output_type": "execute_result"
    }
   ],
   "source": [
    "# percentage of zeros in each column\n",
    "(((df == 0).sum() / len(df)) * 100).round(2)"
   ]
  },
  {
   "cell_type": "code",
   "execution_count": 16,
   "id": "5c2ec899",
   "metadata": {},
   "outputs": [
    {
     "name": "stdout",
     "output_type": "stream",
     "text": [
      "{\n",
      "  \"Genre\": [\n",
      "    \"Male\",\n",
      "    \"Female\"\n",
      "  ],\n",
      "  \"Age\": [\n",
      "    19,\n",
      "    21,\n",
      "    20,\n",
      "    23,\n",
      "    31,\n",
      "    22,\n",
      "    35,\n",
      "    64,\n",
      "    30,\n",
      "    67,\n",
      "    58,\n",
      "    24,\n",
      "    37,\n",
      "    52,\n",
      "    25,\n",
      "    46,\n",
      "    54,\n",
      "    29,\n",
      "    45,\n",
      "    40,\n",
      "    60,\n",
      "    53,\n",
      "    18,\n",
      "    49,\n",
      "    42,\n",
      "    36,\n",
      "    65,\n",
      "    48,\n",
      "    50,\n",
      "    27,\n",
      "    33,\n",
      "    59,\n",
      "    47,\n",
      "    51,\n",
      "    69,\n",
      "    70,\n",
      "    63,\n",
      "    43,\n",
      "    68,\n",
      "    32,\n",
      "    26,\n",
      "    57,\n",
      "    38,\n",
      "    55,\n",
      "    34,\n",
      "    66,\n",
      "    39,\n",
      "    44,\n",
      "    28,\n",
      "    56,\n",
      "    41\n",
      "  ],\n",
      "  \"Annual Income (k$)\": [\n",
      "    15,\n",
      "    16,\n",
      "    17,\n",
      "    18,\n",
      "    19,\n",
      "    20,\n",
      "    21,\n",
      "    23,\n",
      "    24,\n",
      "    25,\n",
      "    28,\n",
      "    29,\n",
      "    30,\n",
      "    33,\n",
      "    34,\n",
      "    37,\n",
      "    38,\n",
      "    39,\n",
      "    40,\n",
      "    42,\n",
      "    43,\n",
      "    44,\n",
      "    46,\n",
      "    47,\n",
      "    48,\n",
      "    49,\n",
      "    50,\n",
      "    54,\n",
      "    57,\n",
      "    58,\n",
      "    59,\n",
      "    60,\n",
      "    61,\n",
      "    62,\n",
      "    63,\n",
      "    64,\n",
      "    65,\n",
      "    67,\n",
      "    69,\n",
      "    70,\n",
      "    71,\n",
      "    72,\n",
      "    73,\n",
      "    74,\n",
      "    75,\n",
      "    76,\n",
      "    77,\n",
      "    78,\n",
      "    79,\n",
      "    81,\n",
      "    85,\n",
      "    86,\n",
      "    87,\n",
      "    88,\n",
      "    93,\n",
      "    97,\n",
      "    98,\n",
      "    99,\n",
      "    101,\n",
      "    103\n",
      "  ],\n",
      "  \"Spending Score (1-100)\": [\n",
      "    39,\n",
      "    81,\n",
      "    6,\n",
      "    77,\n",
      "    40,\n",
      "    76,\n",
      "    94,\n",
      "    3,\n",
      "    72,\n",
      "    14,\n",
      "    99,\n",
      "    15,\n",
      "    13,\n",
      "    79,\n",
      "    35,\n",
      "    66,\n",
      "    29,\n",
      "    98,\n",
      "    73,\n",
      "    5,\n",
      "    82,\n",
      "    32,\n",
      "    61,\n",
      "    31,\n",
      "    87,\n",
      "    4,\n",
      "    92,\n",
      "    17,\n",
      "    26,\n",
      "    75,\n",
      "    36,\n",
      "    28,\n",
      "    65,\n",
      "    55,\n",
      "    47,\n",
      "    42,\n",
      "    52,\n",
      "    60,\n",
      "    54,\n",
      "    45,\n",
      "    41,\n",
      "    50,\n",
      "    46,\n",
      "    51,\n",
      "    56,\n",
      "    59,\n",
      "    48,\n",
      "    49,\n",
      "    53,\n",
      "    44,\n",
      "    57,\n",
      "    58,\n",
      "    43,\n",
      "    91,\n",
      "    95,\n",
      "    11,\n",
      "    9,\n",
      "    34,\n",
      "    71,\n",
      "    88,\n",
      "    7,\n",
      "    10,\n",
      "    93,\n",
      "    12,\n",
      "    97,\n",
      "    74,\n",
      "    22,\n",
      "    90,\n",
      "    20,\n",
      "    16,\n",
      "    89,\n",
      "    1,\n",
      "    78,\n",
      "    83,\n",
      "    27,\n",
      "    63,\n",
      "    86,\n",
      "    69,\n",
      "    24,\n",
      "    68\n",
      "  ]\n",
      "}\n"
     ]
    }
   ],
   "source": [
    "# check distinct values for categorical columns\n",
    "cat_cols = ['Genre', 'Age', 'Annual Income (k$)','Spending Score (1-100)']\n",
    "unique_values = {col: df[col].unique().tolist() for col in cat_cols}\n",
    "pretty_json = json.dumps(unique_values, indent=2)\n",
    "print(pretty_json)"
   ]
  },
  {
   "cell_type": "code",
   "execution_count": 18,
   "id": "f886ff0f",
   "metadata": {},
   "outputs": [
    {
     "data": {
      "application/vnd.microsoft.datawrangler.viewer.v0+json": {
       "columns": [
        {
         "name": "Age",
         "rawType": "int64",
         "type": "integer"
        },
        {
         "name": "count",
         "rawType": "int64",
         "type": "integer"
        }
       ],
       "ref": "a5222c9c-bc45-4c3e-8160-d7a7e5109737",
       "rows": [
        [
         "19",
         "8"
        ],
        [
         "35",
         "8"
        ],
        [
         "31",
         "8"
        ],
        [
         "32",
         "8"
        ],
        [
         "49",
         "7"
        ],
        [
         "23",
         "6"
        ],
        [
         "30",
         "6"
        ],
        [
         "40",
         "6"
        ],
        [
         "27",
         "6"
        ],
        [
         "20",
         "5"
        ],
        [
         "21",
         "5"
        ],
        [
         "36",
         "5"
        ],
        [
         "48",
         "5"
        ],
        [
         "50",
         "5"
        ],
        [
         "47",
         "5"
        ],
        [
         "29",
         "5"
        ],
        [
         "38",
         "5"
        ],
        [
         "24",
         "4"
        ],
        [
         "67",
         "4"
        ],
        [
         "54",
         "4"
        ],
        [
         "28",
         "4"
        ],
        [
         "59",
         "4"
        ],
        [
         "18",
         "4"
        ],
        [
         "34",
         "4"
        ],
        [
         "22",
         "3"
        ],
        [
         "25",
         "3"
        ],
        [
         "46",
         "3"
        ],
        [
         "43",
         "3"
        ],
        [
         "60",
         "3"
        ],
        [
         "39",
         "3"
        ],
        [
         "68",
         "3"
        ],
        [
         "37",
         "3"
        ],
        [
         "45",
         "2"
        ],
        [
         "58",
         "2"
        ],
        [
         "52",
         "2"
        ],
        [
         "41",
         "2"
        ],
        [
         "51",
         "2"
        ],
        [
         "57",
         "2"
        ],
        [
         "65",
         "2"
        ],
        [
         "42",
         "2"
        ],
        [
         "53",
         "2"
        ],
        [
         "33",
         "2"
        ],
        [
         "70",
         "2"
        ],
        [
         "44",
         "2"
        ],
        [
         "26",
         "2"
        ],
        [
         "63",
         "2"
        ],
        [
         "66",
         "2"
        ],
        [
         "64",
         "1"
        ],
        [
         "69",
         "1"
        ],
        [
         "55",
         "1"
        ]
       ],
       "shape": {
        "columns": 1,
        "rows": 51
       }
      },
      "text/plain": [
       "Age\n",
       "19    8\n",
       "35    8\n",
       "31    8\n",
       "32    8\n",
       "49    7\n",
       "23    6\n",
       "30    6\n",
       "40    6\n",
       "27    6\n",
       "20    5\n",
       "21    5\n",
       "36    5\n",
       "48    5\n",
       "50    5\n",
       "47    5\n",
       "29    5\n",
       "38    5\n",
       "24    4\n",
       "67    4\n",
       "54    4\n",
       "28    4\n",
       "59    4\n",
       "18    4\n",
       "34    4\n",
       "22    3\n",
       "25    3\n",
       "46    3\n",
       "43    3\n",
       "60    3\n",
       "39    3\n",
       "68    3\n",
       "37    3\n",
       "45    2\n",
       "58    2\n",
       "52    2\n",
       "41    2\n",
       "51    2\n",
       "57    2\n",
       "65    2\n",
       "42    2\n",
       "53    2\n",
       "33    2\n",
       "70    2\n",
       "44    2\n",
       "26    2\n",
       "63    2\n",
       "66    2\n",
       "64    1\n",
       "69    1\n",
       "55    1\n",
       "56    1\n",
       "Name: count, dtype: int64"
      ]
     },
     "execution_count": 18,
     "metadata": {},
     "output_type": "execute_result"
    }
   ],
   "source": [
    "df['Age'].value_counts()"
   ]
  },
  {
   "cell_type": "code",
   "execution_count": null,
   "id": "3b667131",
   "metadata": {},
   "outputs": [
    {
     "data": {
      "image/png": "[encoded data removed]",
      "text/plain": [
       "<Figure size 600x400 with 1 Axes>"
      ]
     },
     "metadata": {},
     "output_type": "display_data"
    },
    {
     "data": {
      "image/png": "[encoded data removed]",
      "text/plain": [
       "<Figure size 600x400 with 1 Axes>"
      ]
     },
     "metadata": {},
     "output_type": "display_data"
    },
    {
     "data": {
      "image/png": "[encoded data removed]",
      "text/plain": [
       "<Figure size 600x400 with 1 Axes>"
      ]
     },
     "metadata": {},
     "output_type": "display_data"
    }
   ],
   "source": [
    "# distribution plots\n",
    "numeric_cols = [\"Age\", \"Annual Income (k$)\", \"Spending Score (1-100)\"]\n",
    "for col in numeric_cols:\n",
    "    plt.figure(figsize=(6,4))\n",
    "    sns.histplot(df[col], kde=True, bins=20)\n",
    "    plt.title(f\"Distribution of {col}\")\n",
    "    plt.show()\n"
   ]
  },
  {
   "cell_type": "code",
   "execution_count": null,
   "id": "1d131e8e",
   "metadata": {},
   "outputs": [
    {
     "data": {
      "image/png": "[encoded data removed]",
      "text/plain": [
       "<Figure size 400x400 with 1 Axes>"
      ]
     },
     "metadata": {},
     "output_type": "display_data"
    }
   ],
   "source": [
    "# gender count\n",
    "plt.figure(figsize=(4,4))\n",
    "sns.countplot(x=\"Genre\", data=df)\n",
    "plt.title(\"Gender Distribution\")\n",
    "plt.show()\n"
   ]
  },
  {
   "cell_type": "code",
   "execution_count": 20,
   "id": "0c13e28f",
   "metadata": {},
   "outputs": [
    {
     "data": {
      "image/png": "[encoded data removed]",
      "text/plain": [
       "<Figure size 600x400 with 2 Axes>"
      ]
     },
     "metadata": {},
     "output_type": "display_data"
    }
   ],
   "source": [
    "# Correlation heatmap\n",
    "plt.figure(figsize=(6,4))\n",
    "sns.heatmap(df[numeric_cols].corr(), annot=True, cmap=\"coolwarm\")\n",
    "plt.title(\"Feature Correlations\")\n",
    "plt.show()\n"
   ]
  },
  {
   "cell_type": "code",
   "execution_count": 22,
   "id": "26739ba1",
   "metadata": {},
   "outputs": [
    {
     "data": {
      "image/png": "[encoded data removed]",
      "text/plain": [
       "<Figure size 600x500 with 1 Axes>"
      ]
     },
     "metadata": {},
     "output_type": "display_data"
    }
   ],
   "source": [
    "# income vs spending scatter\n",
    "plt.figure(figsize=(6,5))\n",
    "sns.scatterplot(data=df, x=\"Annual Income (k$)\", y=\"Spending Score (1-100)\", hue=\"Genre\")\n",
    "plt.title(\"Annual Income vs Spending Score by Gender\")\n",
    "plt.show()\n"
   ]
  },
  {
   "cell_type": "code",
   "execution_count": 24,
   "id": "bff6dbeb",
   "metadata": {},
   "outputs": [],
   "source": [
    "req_numeric_columns = ['Age', 'Annual Income (k$)', 'Spending Score (1-100)']"
   ]
  },
  {
   "cell_type": "code",
   "execution_count": 25,
   "id": "10b9fa56",
   "metadata": {},
   "outputs": [
    {
     "name": "stdout",
     "output_type": "stream",
     "text": [
      "Coefficient of Variation:\n",
      "Spending Score (1-100)    50.816590\n",
      "Annual Income (k$)        39.694788\n",
      "Age                       36.630729\n",
      "dtype: float64\n",
      "\n",
      "Skewness:\n",
      "Age                       0.444751\n",
      "Spending Score (1-100)   -0.041680\n",
      "Annual Income (k$)       -0.118880\n",
      "dtype: float64\n",
      "\n",
      "Kurtosis:\n",
      "Spending Score (1-100)   -0.724818\n",
      "Age                      -0.779357\n",
      "Annual Income (k$)       -0.859088\n",
      "dtype: float64\n"
     ]
    }
   ],
   "source": [
    "# Coefficient of variation\n",
    "cv = ((df[req_numeric_columns].std()/df[req_numeric_columns].mean()) * 100).sort_values(ascending=False)\n",
    "# Skewness of features\n",
    "skew = df[req_numeric_columns].skew().sort_values(ascending=False)\n",
    "# Kurtosis of features\n",
    "kurt = df[req_numeric_columns].kurtosis().sort_values(ascending=False)\n",
    "print(\"Coefficient of Variation:\")\n",
    "print(cv)\n",
    "print(\"\\nSkewness:\")\n",
    "print(skew)\n",
    "print(\"\\nKurtosis:\")\n",
    "print(kurt)"
   ]
  }
 ],
 "metadata": {
  "kernelspec": {
   "display_name": ".venv",
   "language": "python",
   "name": "python3"
  },
  "language_info": {
   "codemirror_mode": {
    "name": "ipython",
    "version": 3
   },
   "file_extension": ".py",
   "mimetype": "text/x-python",
   "name": "python",
   "nbconvert_exporter": "python",
   "pygments_lexer": "ipython3",
   "version": "3.10.11"
  }
 },
 "nbformat": 4,
 "nbformat_minor": 5
}
